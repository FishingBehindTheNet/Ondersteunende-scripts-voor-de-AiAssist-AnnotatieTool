{
 "cells": [
  {
   "cell_type": "code",
   "execution_count": null,
   "metadata": {},
   "outputs": [],
   "source": [
    "# Importeer benodigde modules\n",
    "from datetime import datetime\n",
    "from pathlib import Path\n",
    "import shutil\n",
    "import time\n",
    "import os"
   ]
  },
  {
   "cell_type": "markdown",
   "metadata": {},
   "source": [
    "# Bestanden Hernoemen\n",
    "Dit script vereenvoudigt het hernoemen van bestanden op basis van projectvariabelen. Het script gebruikt de mapstructuur en gebruikersinput om alle bestanden in een map te hernoemen. Dit zorgt voor duidelijkheid tijdens het annoteren en beoordelen van resultaten, en is noodzakelijk voor het gebruik van meerdere scripts binnen deze repository. Het is het gemakkelijkst om je bestanden te hernoemen voordat je foto's segmenteert of annoteert.\n",
    "\n",
    "Het script werkt op basis van het opgegeven pad. Wanneer de inputlocatie \"ProjectNaam\" is, worden alle bestanden in \"ProjectNaam\" en de onderliggende mappen meegenomen. Dit betekent dat met MapSelectie = [0, -2] een bestand gevonden op locatie:\n",
    "\"c:\\gebruiker\\python\\script\\\\<b>ProjectNaam\\variabel1\\variabel2\\variabel3\\Bestand1.png</b>\" \n",
    "\n",
    "hernoemd zal worden als \"Bestand1-variabel1-variabel2.png\" terwijl een ander bestand gevonden op: \"c:\\gebruiker\\python\\script\\\\<b>ProjectNaam\\variabel1\\variabel2\\variabel3\\variabel4\\Bestand2.png</b>\" \n",
    "\n",
    "hernoemd zal worden als \"Bestand2-variabel1-variabel3.png\""
   ]
  },
  {
   "cell_type": "markdown",
   "metadata": {},
   "source": [
    "---\n",
    "<blockquote style=\"border-left: 5px solid red; padding-left: 10px;\">\n",
    "\n",
    "## **Attentie!** \n",
    "<code> Update onderstaande cell voordat je de het script runt </code></blockquote>\n",
    " "
   ]
  },
  {
   "cell_type": "code",
   "execution_count": null,
   "metadata": {},
   "outputs": [],
   "source": [
    "# Input mappen met de foto's die hernoemd gaan worden.\n",
    "InputLocaties : list[Path] = [Path(r\"pad/naar/jouw/folder\"), Path(r\"pad/naar/een/andere/folder\")]\n",
    "# Bijvoorbeeld: [Path(r\"pad/naar/jouw/folder\"), Path(r\"pad/naar/een/andere/folder\")]\n",
    "\n",
    "# Bestandstypes van de doelbestanden. Bestanden met andere types worden genegeerd door het script.\n",
    "InputBestandsTypes : list[str] = [\".jpg\", \".png\", \"jpeg\"] \n",
    "# Bijvoorbeeld: [\".jpg\", \".txt\", \".docx\"]\n",
    "\n",
    "# Output map waar de hernoemde bestanden worden opgeslagen. Als de map nog niet bestaat, wordt deze aangemaakt.\n",
    "OutputFolder: Path = Path(r\"FolderNaam\")\n",
    "# Bijvoorbeeld: Path(r\"pad/naar/jouw/folder\") OF Path(r\"FolderNaam\")\n",
    "\n",
    "# Het scheidingsteken dat wordt gebruikt in de naam tussen de variabelen. \n",
    "# ScheidingsTeken = \"-\" zou er dus zo uit kunnen zien \"0002-A52-flits-1_0_0\"\n",
    "ScheidingsTeken: str = \"-\" \n",
    "# Bijvoorbeeld: \"-\" of \"_\" of \" \" etc.\n",
    "\n",
    "# Welke mappen worden meegenomen in de nieuwe naam. \n",
    "# Positieve waardes (beginnend bij 0) worden gerekend vanaf InputLocaties, negatieve (beginnend bij -1) vanaf de bestandslocatie.\n",
    "# De volgorde van MapSelectie wordt aangehouden.\n",
    "MapSelectie: list[int] = [0, -1, 2]\n",
    "# Bijvoorbeeld: [0, -1, 2]\n",
    "\n",
    "# Bepaal of je de originele bestandsnaam in de nieuwe naam wilt behouden.\n",
    "# Als BehoudBestandNaam False is, wordt een \"ID000000000000\" gebruikt in plaats van de originele naam.\n",
    "BehoudBestandNaam: bool = True \n",
    "# Bijvoorbeeld: True OF False\n",
    "\n",
    "# Bepaal of je de mapstructuur op de outputlocatie wilt behouden.\n",
    "BehoudMapStructuur: bool = False \n",
    "# Bijvoorbeeld: True OF False"
   ]
  },
  {
   "cell_type": "markdown",
   "metadata": {},
   "source": [
    "---\n",
    "## **Code**"
   ]
  },
  {
   "cell_type": "code",
   "execution_count": null,
   "metadata": {},
   "outputs": [],
   "source": [
    "# Verwijder de output map als deze al bestaat\n",
    "if os.path.exists(OutputFolder):\n",
    "    shutil.rmtree(OutputFolder)\n",
    "\n",
    "# Maakt een variabele voor de huidige tijd om te gebruiken als ID. Word ook gebruikt om te checken of de tijden daarmee het ID uniek is.\n",
    "CurrentTime = datetime.now()\n",
    "\n",
    "# Zet de bestandstypes in lowercase om hoofdlettergevoeligheid te voorkomen.\n",
    "InputBestandsTypesLowercase = tuple(file_type.lower() for file_type in InputBestandsTypes)\n",
    "\n",
    "# loopt door alle bestanden in de inputlocatie(s).\n",
    "for BaseDir in InputLocaties:\n",
    "    for root, dirs, files in os.walk(BaseDir):\n",
    "        for PotentialFiles in files:\n",
    "            # Check of het bestandstype overeenkomt met de bestandstypes die we willen hernoemen.\n",
    "            if PotentialFiles.lower().endswith(InputBestandsTypesLowercase):\n",
    "                # Bepaal mappen van het bestand tot inputlocatie zodat alleen deze mappen worden gebruiken in de nieuwe naam.\n",
    "                RelativePath = os.path.relpath(root, BaseDir)\n",
    "                RelativePathParts = RelativePath.split(sep=os.path.sep)\n",
    "\n",
    "                NieuweBestandsnaam = []\n",
    "                # Selecteerd de mappen op volgorden zoals die gebruikt gaan worden in de nieuwe naam.\n",
    "                for Mappen in MapSelectie:\n",
    "                    NieuweBestandsnaam.append(RelativePathParts[Mappen])\n",
    "                \n",
    "                # voegt of de originele bestandsnaam of een ID (op basis van de tijd) toe aan de nieuwe bestandsnaam.\n",
    "                if BehoudBestandNaam:\n",
    "                    NieuweBestandsnaam.insert(0, os.path.splitext(PotentialFiles)[0])\n",
    "                else:\n",
    "                    # Controleer of de Tijd/ID uniek is anders wacht tot dit wel zo is. \n",
    "                    if datetime.now() == CurrentTime:\n",
    "                        time.sleep(0.000001)\n",
    "                    \n",
    "                    # update CurrentTime voor de volgende iteratie.\n",
    "                    CurrentTime = datetime.now()\n",
    "\n",
    "                    # Formateer de tijd naar een string en voeg toe aan bestandsnaam.\n",
    "                    FormattedTime = CurrentTime.strftime(\"ID%H%M%S%f\")\n",
    "                    NieuweBestandsnaam.insert(0, FormattedTime)\n",
    "                \n",
    "                # Bepaal de locatie waar het bestand wordt opgeslagen en zorg dat deze bestaat.\n",
    "                if BehoudMapStructuur:\n",
    "                    OpslagLocatie = os.path.join(OutputFolder, RelativePath)\n",
    "                else:\n",
    "                    OpslagLocatie = OutputFolder\n",
    "                \n",
    "                if not os.path.exists(OpslagLocatie):\n",
    "                    os.makedirs(OpslagLocatie)\n",
    "\n",
    "                #Sla bestand op onder nieuwe naam\n",
    "                OrigineleLocatie = os.path.join(root, PotentialFiles)\n",
    "                NieuweLocatie = os.path.join(OpslagLocatie, f\"{ScheidingsTeken.join(NieuweBestandsnaam)}{os.path.splitext(PotentialFiles)[1]}\")\n",
    "                \n",
    "                shutil.copyfile(OrigineleLocatie, NieuweLocatie)"
   ]
  }
 ],
 "metadata": {
  "kernelspec": {
   "display_name": ".Playground_VENV",
   "language": "python",
   "name": "python3"
  },
  "language_info": {
   "codemirror_mode": {
    "name": "ipython",
    "version": 3
   },
   "file_extension": ".py",
   "mimetype": "text/x-python",
   "name": "python",
   "nbconvert_exporter": "python",
   "pygments_lexer": "ipython3",
   "version": "3.9.13"
  }
 },
 "nbformat": 4,
 "nbformat_minor": 2
}

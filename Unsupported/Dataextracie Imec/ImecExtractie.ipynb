{
 "cells": [
  {
   "cell_type": "code",
   "execution_count": null,
   "metadata": {},
   "outputs": [],
   "source": [
    "# Importeer benodigde modules\n",
    "import os\n",
    "import json\n",
    "import pandas as pd\n",
    "from pathlib import Path"
   ]
  },
  {
   "cell_type": "markdown",
   "metadata": {},
   "source": [
    "# **Unsupported:** IMEC Extractie\n",
    "Dit script is geschreven om de resultaten van het beeldherkenningsmodel van IMEC te verzamelen. Tijdens verschillende projecten is, naast het trainen van een model met Custom Vision of YOLOv8, ook een model getraind en ontwikkeld door onderzoekers van IMEC. Om de prestaties van dit model te testen, heeft IMEC validaties uitgevoerd en de resultaten in de vorm van een JSON-bestand opgestuurd. Dit script heeft als doel deze resultaten uit te lezen en op te slaan in een bewerkbaar Excel-formaat."
   ]
  },
  {
   "cell_type": "markdown",
   "metadata": {},
   "source": [
    "---\n",
    "<blockquote style=\"border-left: 5px solid red; padding-left: 10px;\">\n",
    "\n",
    "## **Attentie!** \n",
    "<code> Update onderstaande cell voordat je de het script runt </code></blockquote>\n",
    " "
   ]
  },
  {
   "cell_type": "code",
   "execution_count": null,
   "metadata": {},
   "outputs": [],
   "source": [
    "# Input map met de Json file met labels die je gedownload hebt van Labelbox.\n",
    "JsonFile : list[str] = [r\"pad/naar/jouw/Json/Resultaten.json\", r\"pad/naar/jouw/andere/Json/Resultaten.json\"]\n",
    "# Bijvoorbeeld: [r\"pad/naar/jouw/Json/Resultaten.json\", r\"pad/naar/jouw/andere/Json/Resultaten.json\"]\n",
    "\n",
    "# Output bestand waar de nieuwe Excel worden opgeslagen.\n",
    "OutputExcelLocation : str = r\"pad/naar/jouw/output/bestand.xlsx\"\n",
    "# Bijvoorbeeld: r\"pad/naar/jouw/output/bestand.xlsx\"\n",
    "\n",
    "\n",
    "# Het scheidingsteken dat wordt gebruikt in de naam tussen de variabelen. \n",
    "# ScheidingsTeken = \"-\" zou er uit zien als \"0002-A52-flits-1_0_0\"\n",
    "ScheidingsTeken : str = \"-\" \n",
    "# Bijvoorbeeld: \"-\" of \"_\" of \" \" etc."
   ]
  },
  {
   "cell_type": "markdown",
   "metadata": {},
   "source": [
    "---\n",
    "## **Code**"
   ]
  },
  {
   "cell_type": "code",
   "execution_count": null,
   "metadata": {},
   "outputs": [],
   "source": [
    "OutputExcel = pd.DataFrame()\n",
    "InputJson = pd.DataFrame()\n",
    "\n",
    "# Leest de json file in en maakt er een pd tabel van \n",
    "for JsonFile in JsonFile:\n",
    "    Tijdelijk = pd.DataFrame()\n",
    "\n",
    "    with open(JsonFile) as a:\n",
    "        Tijdelijk = json.load(a)\n",
    "    \n",
    "    Tijdelijk = pd.DataFrame.from_dict(Tijdelijk, orient=\"index\")\n",
    "    InputJson =  pd.concat([InputJson, Tijdelijk])\n",
    "\n",
    "# Leest de bestandsnamen uit de json en bouwd hiermee het frame van de output excel\n",
    "InputJson.insert(0, \"SampleName\", \"*\")\n",
    "for Index, Row in InputJson.iterrows():\n",
    "    IndexName = Path(Index)\n",
    "    IndexName = IndexName.stem.rsplit(\"_\", 1)[0]\n",
    "    InputJson.loc[Index,\"SampleName\"]= IndexName\n",
    "\n",
    "InputJson= InputJson.reset_index(drop=True)\n",
    "\n",
    "# Extraheer de Resultaten uit de input json \n",
    "for Index, Row in InputJson.iterrows():\n",
    "    DfRows = []\n",
    "    for Num, Data in enumerate(Row):\n",
    "        if isinstance(Data, dict):\n",
    "            InputRow = pd.DataFrame([Data])\n",
    "            DfRows.append(InputRow)\n",
    "    \n",
    "    # Voor de gevonden resultaten structureer de data in een gestandaardiseerde manier voor dit project\n",
    "    if DfRows:\n",
    "        DfConcat = pd.concat(DfRows, ignore_index=True)\n",
    "\n",
    "        DfConcat.rename(columns={'object_tp': 'True Positives', 'object_fp': 'False Positives', 'object_fn': 'False Negatives', \"class_name\":\"class\"}, inplace=True)\n",
    "\n",
    "        # bereken de aantallen originele annotaties\n",
    "        DfConcat[\"Mens: Instances\"] = DfConcat[\"True Positives\"] + DfConcat[\"False Negatives\"]\n",
    "        DfConcat[\"Model: Instances\"] = DfConcat[\"True Positives\"] + DfConcat[\"False Positives\"]\n",
    "\n",
    "        # Reorder de kolommen\n",
    "        DfConcat = DfConcat[[\"class\", \"Mens: Instances\", \"Model: Instances\", \"True Positives\", \"False Positives\", \"False Negatives\"]]\n",
    "        \n",
    "        \n",
    "        DfConcat.loc[len(DfConcat)] = [\n",
    "            \"Ongewogen gemiddelden\",\n",
    "            DfConcat[\"Mens: Instances\"].sum(),\n",
    "            DfConcat[\"Model: Instances\"].sum(),\n",
    "            DfConcat[\"True Positives\"].sum(),\n",
    "            DfConcat[\"False Positives\"].sum(),\n",
    "            DfConcat[\"False Negatives\"].sum(),    \n",
    "        ]\n",
    "        \n",
    "        DfConcat.insert(0, \"SampleName\", Row[\"SampleName\"])\n",
    "\n",
    "        # Splitst de naam op het opgegeven scheidingsteken en voegt ze individueel toe. zo kunnen resultaten per variabel bekeken worden\n",
    "        for Num, Var in enumerate(DfConcat.iloc[0,0].split(ScheidingsTeken)):\n",
    "            DfConcat.insert(Num + 1, f\"Variabele {Num + 1}\", Var)   \n",
    "\n",
    "        # Voegt de dfConcat toe aan de output excel. \n",
    "        # checkt op het aantal kolommen zodat de tabel met de meeste kolommen word aangevuld met de tabel met minder.\n",
    "        # Vooral van belang bij de eerste data toevoegen om geen kolommen te verliezen\n",
    "        if len(OutputExcel.columns) >= len(DfConcat.columns):\n",
    "            OutputExcel = pd.concat([OutputExcel, DfConcat], ignore_index=True)\n",
    "        else:\n",
    "            OutputExcel = pd.concat([DfConcat, OutputExcel], ignore_index=True)\n",
    "\n",
    "# Bereken de gewenste metrics op basis van resultaten\n",
    "# PAS OP! resultaten maar p of r 0 kunnen niet goed berekend worden en de resultaten van deze samples kunnen niet vertrouwd worden.\n",
    "# Wanneer dit veel voorkomt kan er voor gekozen worden om resultaten van specifieke variabel combinaties samen te voegen.\n",
    "OutputExcel[\"Precision\"] = OutputExcel[\"True Positives\"]/(OutputExcel[\"True Positives\"]+OutputExcel[\"False Positives\"])\n",
    "OutputExcel[\"Recall\"] = OutputExcel[\"True Positives\"]/(OutputExcel[\"True Positives\"]+OutputExcel[\"False Negatives\"])\n",
    "\n",
    "OutputExcel[\"F1-score\"] = (2*(OutputExcel[\"Precision\"]*OutputExcel[\"Recall\"]))/(OutputExcel[\"Precision\"]+OutputExcel[\"Recall\"])\n",
    "\n",
    "# Sla de output op\n",
    "if OutputExcelLocation.endswith(\".xlsx\"):\n",
    "    OutputExcel.to_excel(OutputExcelLocation, index=False)\n",
    "else:\n",
    "    OutputExcel.to_excel(os.path.join(OutputExcelLocation, \"IMECresultaten.xlsx\"), index=False)"
   ]
  }
 ],
 "metadata": {
  "kernelspec": {
   "display_name": ".Playground_VENV",
   "language": "python",
   "name": "python3"
  },
  "language_info": {
   "codemirror_mode": {
    "name": "ipython",
    "version": 3
   },
   "file_extension": ".py",
   "mimetype": "text/x-python",
   "name": "python",
   "nbconvert_exporter": "python",
   "pygments_lexer": "ipython3",
   "version": "3.9.13"
  }
 },
 "nbformat": 4,
 "nbformat_minor": 2
}

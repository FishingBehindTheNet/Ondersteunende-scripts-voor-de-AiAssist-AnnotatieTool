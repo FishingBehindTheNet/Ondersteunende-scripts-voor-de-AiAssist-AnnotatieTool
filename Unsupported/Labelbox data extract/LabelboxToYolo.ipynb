{
 "cells": [
  {
   "cell_type": "code",
   "execution_count": 31,
   "metadata": {},
   "outputs": [],
   "source": [
    "# Importeer benodigde modules\n",
    "import json\n",
    "import cv2\n",
    "import os"
   ]
  },
  {
   "cell_type": "markdown",
   "metadata": {},
   "source": [
    "# **Unsupported:** Labelbox To Yolo\n",
    "Dit script is geschreven tijdens de overgang van custom vision modellen naar yolo modellen. Het annoteren van afbeeldingen wert gedaan met behulp van [Labelbox](https://labelbox.com/) een gratis online annotatie programma waar je met meerdere mensen samen kan annoteren. De annotaties van Labelbox konden gedownload worden als een json file met daarin labels voor alle foto's van een project in coco notatie. Dit script is bedoeld om dit Json bestand te converteren naar verschillende txt bestanden met ieder de labels van één afbeelding in YOLO notatie."
   ]
  },
  {
   "cell_type": "markdown",
   "metadata": {},
   "source": [
    "---\n",
    "<blockquote style=\"border-left: 5px solid red; padding-left: 10px;\">\n",
    "\n",
    "## **Attentie!** \n",
    "<code> Update onderstaande cell voordat je de het script runt </code></blockquote>\n",
    " "
   ]
  },
  {
   "cell_type": "code",
   "execution_count": null,
   "metadata": {},
   "outputs": [],
   "source": [
    "# Output map waar de nieuwe YOLO labels worden opgeslagen.\n",
    "OutputLocatie = r\"pad/naar/jouw/output/folder\"\n",
    "# Bijvoorbeeld: r\"pad/naar/jouw/output/folder\"\n",
    "\n",
    "# Input map met de foto's die Labels nodig hebben.\n",
    "InputFotos = r\"pad/naar/jouw/folder\"\n",
    "# Bijvoorbeeld: r\"pad/naar/jouw/folder\"\n",
    "\n",
    "# Input map met de Json file met labels die je gedownload hebt van Labelbox.\n",
    "JsonFile = r\"pad/naar/jouw/Json/labels.json\"\n",
    "# Bijvoorbeeld: r\"pad/naar/jouw/Json/labels.json\""
   ]
  },
  {
   "cell_type": "markdown",
   "metadata": {},
   "source": [
    "---\n",
    "## **Code**"
   ]
  },
  {
   "cell_type": "code",
   "execution_count": 32,
   "metadata": {},
   "outputs": [],
   "source": [
    "def LabelBoxToYolo(ImageMap, LabelMap, Json):\n",
    "    file = open(Json)\n",
    "    JsonData = json.load(file)\n",
    "    file.close()\n",
    "\n",
    "    # Functie om een nieuwe folder aan te maken. \n",
    "    # Om het overschrijven van eerdere runs te voorkomen checkt de functie of de folder bestaat.\n",
    "    # Bestaat de folder al dan word het nummer verhoogt to dat er een outputfolder gevonden word die nog niet bestaat. \n",
    "    # Deze word aangemaakt en terug gegeven\n",
    "    def create_label_Location(location=LabelMap, JsonData=JsonData):\n",
    "        ProjectNaam = JsonData[0][\"Project Name\"]\n",
    "        i = 0\n",
    "        while True:\n",
    "            dirname = f\"{ProjectNaam}, Labels({i})\" if i > 0 else f\"{ProjectNaam}, Labels\"\n",
    "            dirpath = os.path.join(location, dirname)\n",
    "            if not os.path.exists(dirpath):\n",
    "                os.makedirs(dirpath)\n",
    "                break\n",
    "            i += 1\n",
    "        return dirpath\n",
    "\n",
    "    LabelFiles = create_label_Location()\n",
    "\n",
    "    # Loopt door het json file en maakt een set van alle gevonden Labelnamen/object title's\n",
    "    objects = set()\n",
    "    for photo in JsonData:\n",
    "        for Object in photo[\"Label\"][\"objects\"]:\n",
    "            objects.add(Object[\"title\"])\n",
    "\n",
    "    # Maakt een Locatie aan om de het Labels.txt bestant op te vullen.\n",
    "    # Loopt daarna over alle gevonden object titels en filter de unieke labels uit en slaat ze op in Labels.txt \n",
    "    LabelList = os.path.join(LabelFiles, \"Labels.txt\")\n",
    "    objects.sorted()\n",
    "    for name in objects:\n",
    "        with open(LabelList, \"a+\") as a:\n",
    "            a.write(name + \"\\n\")\n",
    "\n",
    "    # loopt door alle gedownloade foto's heen en filtert een voor een de bijbehorende labels uit\n",
    "    for Image in os.listdir(ImageMap):\n",
    "        AnnoName = Image.replace(\".jpg\", \".txt\").replace(\".JPG\", \".txt\")\n",
    "        AnnoLocation = os.path.join(LabelFiles, AnnoName)\n",
    "        ImageLocation = os.path.join(ImageMap, Image)\n",
    "\n",
    "        # checkt of maakt het label bestand aan en verzekert dat het leeg is\n",
    "        with open(AnnoLocation, \"w+\") as a:\n",
    "            a.write(\"\")\n",
    "\n",
    "        # Haalt de afmetingen van de foto op om later te kunnen gebruiken voor het omrekenen van de coördinaten\n",
    "        if os.path.exists(ImageLocation):\n",
    "            img = cv2.imread(ImageLocation)\n",
    "            img_y, img_x = img.shape[:2]\n",
    "\n",
    "        # Zoekt naar de annotaties van de foto in het json bestand    \n",
    "        for photo in JsonData:\n",
    "            if Image in photo[\"External ID\"]:\n",
    "                for Box in photo[\"Label\"][\"objects\"]:\n",
    "                    # Gebruikt het eerder gemaakte Labels.txt om de \"titles\" om te zetten in label nummers(YOLO standaard)\n",
    "                    with open(LabelList, 'r') as b:\n",
    "                        lines = b.readlines()\n",
    "                        for i, lines in enumerate(lines):\n",
    "                            if Box[\"title\"] in lines:\n",
    "                                yoloL = i\n",
    "                    # Rakend de COCO annotaties van LabelBox om naar de gewenste YOLO notaties \n",
    "                    # en voegt het label in de correcte volgorde toe aan het nieuwe annotatie bestand\n",
    "                    yoloX = (Box[\"bbox\"][\"left\"] + (Box[\"bbox\"][\"width\"]/2))/img_x\n",
    "                    yoloY = (Box[\"bbox\"][\"top\"] + (Box[\"bbox\"][\"height\"]/2))/img_y\n",
    "                    yoloW = Box[\"bbox\"][\"width\"] / img_y\n",
    "                    yoloH = Box[\"bbox\"][\"height\"] / img_x\n",
    "                    with open(AnnoLocation, \"a\") as c:\n",
    "                        c.write(f\"{yoloL} {yoloX} {yoloY} {yoloW} {yoloH}\\n\")\n",
    "\n",
    "LabelBoxToYolo(ImageMap=InputFotos, LabelMap=OutputLocatie, Json=JsonFile)"
   ]
  }
 ],
 "metadata": {
  "kernelspec": {
   "display_name": ".UserVersion",
   "language": "python",
   "name": "python3"
  },
  "language_info": {
   "codemirror_mode": {
    "name": "ipython",
    "version": 3
   },
   "file_extension": ".py",
   "mimetype": "text/x-python",
   "name": "python",
   "nbconvert_exporter": "python",
   "pygments_lexer": "ipython3",
   "version": "3.9.13"
  },
  "orig_nbformat": 4
 },
 "nbformat": 4,
 "nbformat_minor": 2
}

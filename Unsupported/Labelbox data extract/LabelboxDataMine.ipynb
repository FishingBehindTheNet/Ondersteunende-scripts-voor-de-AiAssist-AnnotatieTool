{
 "cells": [
  {
   "cell_type": "code",
   "execution_count": null,
   "metadata": {},
   "outputs": [],
   "source": [
    "import pandas as pd\n",
    "import json\n",
    "from ipyfilechooser import FileChooser\n",
    "import ipywidgets as widgets\n",
    "from IPython.display import display\n",
    "import os"
   ]
  },
  {
   "cell_type": "markdown",
   "metadata": {},
   "source": [
    "# **Unsupported:** Labelbox To Yolo\n",
    "Dit script is geschreven om annotaties van modellen handmatig te kunnen controleren. Wanneer een project data van een model kreeg met de labels in de afbeelding \"geprint\" of allen de labels en niet of deze klopte met de werkelijkheid moest iedere annotatie van het model handmatig gecontroleerd worden. Hiervoor werd [Labelbox](https://labelbox.com/) gebruikt. Labelbox bied de mogelijkheid label voorschriften te maken waarbij naast het label ook een sub-label geselecteerd moet worden voor een valide annotatie. Dit betekend dat je de annotaties en/of labels in Labelbox kan laden en voor iedere bounding box en/of object een nieuwe annotatie kan maken waarbij je eerst annoteert welk label iets moet krijgen en het sub-label gebruikte om aan te geven wat het model er van maakt. Net als bij [**Unsupported:** Labelbox To Yolo](LabelboxToYolo.ipynb) kun je dan de annotaties downloaden in de vorm van een Json file. Dit script is bedoelt om de annotaties uit de json lezen en op te slaan in een ExcelFile voor verdere resultaat verwerking. "
   ]
  },
  {
   "cell_type": "markdown",
   "metadata": {},
   "source": [
    "---\n",
    "<blockquote style=\"border-left: 5px solid red; padding-left: 10px;\">\n",
    "\n",
    "## **Attentie!** \n",
    "<code> Update onderstaande cell voordat je de het script runt </code></blockquote>\n",
    " "
   ]
  },
  {
   "cell_type": "code",
   "execution_count": null,
   "metadata": {},
   "outputs": [],
   "source": [
    "# Input map met de Json file met labels die je gedownload hebt van Labelbox.\n",
    "JsonFile = r\"pad/naar/jouw/Json/labels.json\"\n",
    "# Bijvoorbeeld: r\"pad/naar/jouw/Json/labels.json\"\n",
    "\n",
    "# Output map of bestand waar de nieuwe Excel worden opgeslagen.\n",
    "OutputLocatie = r\"pad/naar/jouw/output/bestand.xlsx\"\n",
    "# Bijvoorbeeld: r\"pad/naar/jouw/output/bestand.xlsx\" OF r\"pad/naar/jouw/output/folder\""
   ]
  },
  {
   "cell_type": "markdown",
   "metadata": {},
   "source": [
    "---\n",
    "## **Code**"
   ]
  },
  {
   "cell_type": "code",
   "execution_count": null,
   "metadata": {},
   "outputs": [],
   "source": [
    "# Checkt of de outputlocatie een excel bestand is en maakt deze anders aan op die locatie\n",
    "if os.path.exists(OutputLocatie) and not OutputLocatie.endswith(\".xlsx\"):\n",
    "    OutputLocatie = os.path.join(OutputLocatie, \"resultaten.xlsx\")\n",
    "if os.path.exists(OutputLocatie):\n",
    "    with open(OutputLocatie, \"w+\") as Output:\n",
    "        Output.write(\"\")\n",
    "\n",
    "if os.path.exists(JsonFile) and os.path.exists(OutputLocatie):\n",
    "    # Leest de json in\n",
    "    with open(JsonFile, \"r\") as File:\n",
    "        Data = json.load(File)\n",
    "    \n",
    "    # Loopt over alle annotaties in het json heen en slaat voor iedere annotatie de volgende data op:\n",
    "    # \"External ID\"(Naam afbeelding voor upload)\n",
    "    # [\"title\"] (Hooft label)\n",
    "    # [\"classifications\"][0][\"answer\"][\"title\"] (sub-label)\n",
    "    output_data = []\n",
    "    for foto in Data:\n",
    "        FileName = foto[\"External ID\"]\n",
    "        for soort in foto[\"Label\"][\"objects\"]:\n",
    "            if \"classifications\" in soort:\n",
    "                Insect = soort[\"title\"]\n",
    "                Voorspelling = soort[\"classifications\"][0][\"answer\"][\"title\"]\n",
    "                output_data.append([FileName, Insect, Voorspelling])\n",
    "\n",
    "    df = pd.DataFrame(output_data, columns=['Foto', 'Annotatie', 'Voorspelling'])\n",
    "    df.to_excel(OutputLocatie, index=False, engine='xlsxwriter')\n",
    "else:\n",
    "    print(\"Zorg ervoor dat de opgegeven paden voor JsonFile en OutputLocatie kloppen en bestaan.\")\n"
   ]
  }
 ],
 "metadata": {
  "kernelspec": {
   "display_name": ".UserVersion",
   "language": "python",
   "name": "python3"
  },
  "language_info": {
   "codemirror_mode": {
    "name": "ipython",
    "version": 3
   },
   "file_extension": ".py",
   "mimetype": "text/x-python",
   "name": "python",
   "nbconvert_exporter": "python",
   "pygments_lexer": "ipython3",
   "version": "3.9.13"
  },
  "orig_nbformat": 4
 },
 "nbformat": 4,
 "nbformat_minor": 2
}

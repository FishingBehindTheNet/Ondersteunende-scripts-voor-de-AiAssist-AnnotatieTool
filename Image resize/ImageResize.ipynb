{
 "cells": [
  {
   "cell_type": "code",
   "execution_count": null,
   "metadata": {},
   "outputs": [],
   "source": [
    "# Importeer benodigde modules\n",
    "from PIL import Image\n",
    "from pathlib import Path\n",
    "from tqdm.notebook import tqdm\n",
    "import ipywidgets as widgets\n",
    "import shutil\n",
    "import os"
   ]
  },
  {
   "cell_type": "markdown",
   "metadata": {},
   "source": [
    "# ImageResize\n",
    "Dit script is bedoeld om foto's te upscale, downscale en draaien. Deze functionaliteit is bij veel van de scripts in deze repository al ingebouwd. Alleen hier vind je de functionaliteit vrijstaand."
   ]
  },
  {
   "cell_type": "markdown",
   "metadata": {},
   "source": [
    "---\n",
    "<blockquote style=\"border-left: 5px solid red; padding-left: 10px;\">\n",
    "\n",
    "## **Attentie!** \n",
    "<code> Update onderstaande cell voordat je de het script runt </code></blockquote>\n",
    " "
   ]
  },
  {
   "cell_type": "code",
   "execution_count": null,
   "metadata": {},
   "outputs": [],
   "source": [
    "# Input map met de foto's een nieuw formaat gaan krijgen.\n",
    "InputFotos : str = r\"pad/naar/jouw/folder\"\n",
    "# Bijvoorbeeld: r\"pad/naar/jouw/folder\"\n",
    "\n",
    "# Output map waar de resized foto's worden opgeslagen.\n",
    "OutputLocatie : str = r\"pad/naar/jouw/output/folder\"\n",
    "# Bijvoorbeeld: r\"pad/naar/jouw/output/folder\"\n",
    "\n",
    "# Bepaal of de hele foto horizontaal(True) of verticaal(False) is.\n",
    "HeleFotoHorizontaal = True\n",
    "# Bijvoorbeeld: True OF False\n",
    "\n",
    "# Bepaal of de rotatie naar rechts(True) of naar links(False) is.\n",
    "RotatieNaarRechts = False\n",
    "# Bijvoorbeeld: True OF False\n",
    "\n",
    "# Geef de nieuwe langste zijde van de hele foto in pixels.\n",
    "HeleFotoLangsteZijde = 3200\n",
    "# Bijvoorbeeld: 3200 OF 1080 OF 720 etc.\n",
    "\n",
    "# Bepaal of je de mapstructuur op de outputlocatie wilt behouden.\n",
    "BehoudMapStructuur: bool = True \n",
    "# Bijvoorbeeld: True OF False"
   ]
  },
  {
   "cell_type": "markdown",
   "metadata": {},
   "source": [
    "---\n",
    "## **Code**"
   ]
  },
  {
   "cell_type": "code",
   "execution_count": null,
   "metadata": {},
   "outputs": [],
   "source": [
    "#maakt een output scherm aan\n",
    "OutputScreen = widgets.Output()\n",
    "display(OutputScreen)\n",
    "\n",
    "#ondersteunde bestandstypen (Lowercase)\n",
    "ImageTypes = [\".jpg\", \".png\", \"jpeg\"]\n",
    "\n",
    "# Zoekt naar alle mappen met afbeeldingen in de input map zodat de laadbalk kan laten zien hoeveel en welke mappen hij verwerkt\n",
    "LijstFotos = set()\n",
    "for root, dirs, files in os.walk(InputFotos):\n",
    "    for File in files:\n",
    "        FileName, FileType = os.path.splitext(File)\n",
    "        if FileType.lower() in ImageTypes:\n",
    "            LijstFotos.add(root)\n",
    "LijstFotos = sorted(LijstFotos)\n",
    "\n",
    "# Bepaal de rotatiehoek op basis van RotatieNaarRechts\n",
    "angle = (lambda: 90 if RotatieNaarRechts else 270)()\n",
    "\n",
    "# Verwijderd de output map als deze al bestaat en maak alle mappen aan die nodig zijn\n",
    "shutil.rmtree(OutputLocatie)\n",
    "for Dir in LijstFotos:\n",
    "    Dir = Path(Dir)\n",
    "    if BehoudMapStructuur:\n",
    "        MapStructuur = os.path.relpath(Dir, InputFotos)\n",
    "        ImageSavePath = os.path.join(os.getcwd(), OutputLocatie, MapStructuur)\n",
    "    else:\n",
    "        ImageSavePath = os.path.join(os.getcwd(), OutputLocatie)\n",
    "\n",
    "    os.makedirs(ImageSavePath)\n",
    "\n",
    "with OutputScreen:\n",
    "    # Weergeeft een laadbalk voor het aantal mappen\n",
    "    for Dir in tqdm(LijstFotos, desc=f\"Foto's upscalen\", leave=True):\n",
    "        # Weergeeft een laadbalk voor het aantal foto's in een map\n",
    "        ReletiveDir = os.path.relpath(Dir, InputFotos)\n",
    "        for Images in tqdm(os.listdir(Dir), desc=f\"{ReletiveDir}\", leave=True):\n",
    "            ImageName, ImageType = os.path.splitext(Images)\n",
    "            # Checkt of de bestandstype van de foto ondersteund wordt zodat mappen niet alleen afbeeldingen mogen/hoeven te bevatten\n",
    "            if ImageType.lower() in ImageTypes:\n",
    "                with Image.open(os.path.join(Dir, Images)) as ImageView:\n",
    "                    Width, Height = ImageView.size\n",
    "\n",
    "                    # Checkt of de foto gedraaid moet worden\n",
    "                    if Width > Height:\n",
    "                        if not HeleFotoHorizontaal:\n",
    "                            ImageView = ImageView.rotate(angle, expand=True)\n",
    "                            Width, Height = ImageView.size\n",
    "                    elif Height > Width:\n",
    "                        if HeleFotoHorizontaal:\n",
    "                            ImageView = ImageView.rotate(angle, expand=True)\n",
    "                            Width, Height = ImageView.size\n",
    "\n",
    "                    # Berekend de nieuwe hoogte van de foto zodat verhoudingen niet veranderd worden en upscaled/downscaled de foto\n",
    "                    if Width>Height and Width != HeleFotoLangsteZijde:\n",
    "                        NewHeight = int(HeleFotoLangsteZijde/Width*Height)\n",
    "\n",
    "                        ImageView = ImageView.resize((HeleFotoLangsteZijde, NewHeight))\n",
    "                        Width, Height = ImageView.size\n",
    "\n",
    "                    elif Width <= Height and Height != HeleFotoLangsteZijde:\n",
    "                        NewWidth = int(HeleFotoLangsteZijde/Height*Width)\n",
    "\n",
    "                        ImageView = ImageView.resize((NewWidth, HeleFotoLangsteZijde))\n",
    "                        Width, Height = ImageView.size\n",
    "\n",
    "                    if BehoudMapStructuur:\n",
    "                        # bepaalt de mapstructuur die overgenomen moet worden\n",
    "                        MapStructuur = os.path.relpath(Dir, InputFotos)\n",
    "                        ImageSavePath = os.path.join(os.getcwd(), OutputLocatie, MapStructuur)\n",
    "                    else:\n",
    "                        ImageSavePath = os.path.join(os.getcwd(), OutputLocatie)\n",
    "                                            \n",
    "                    ImageView.save(os.path.join(ImageSavePath, Images))"
   ]
  }
 ],
 "metadata": {
  "kernelspec": {
   "display_name": ".Playground_VENV",
   "language": "python",
   "name": "python3"
  },
  "language_info": {
   "codemirror_mode": {
    "name": "ipython",
    "version": 3
   },
   "file_extension": ".py",
   "mimetype": "text/x-python",
   "name": "python",
   "nbconvert_exporter": "python",
   "pygments_lexer": "ipython3",
   "version": "3.9.13"
  }
 },
 "nbformat": 4,
 "nbformat_minor": 2
}
